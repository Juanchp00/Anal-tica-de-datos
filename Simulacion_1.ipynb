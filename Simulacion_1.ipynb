{
  "nbformat": 4,
  "nbformat_minor": 0,
  "metadata": {
    "colab": {
      "provenance": [],
      "authorship_tag": "ABX9TyO3Ak93ThceJq6y67rEfF6J",
      "include_colab_link": true
    },
    "kernelspec": {
      "name": "python3",
      "display_name": "Python 3"
    },
    "language_info": {
      "name": "python"
    }
  },
  "cells": [
    {
      "cell_type": "markdown",
      "metadata": {
        "id": "view-in-github",
        "colab_type": "text"
      },
      "source": [
        "<a href=\"https://colab.research.google.com/github/Juanchp00/Anal-tica-de-datos/blob/main/Simulacion_1.ipynb\" target=\"_parent\"><img src=\"https://colab.research.google.com/assets/colab-badge.svg\" alt=\"Open In Colab\"/></a>"
      ]
    },
    {
      "cell_type": "markdown",
      "source": [
        "# Taller No.5 \n",
        "**Relación potencia lumínica, potencia eléctrica, temperatura y resistencia**\n",
        "\n",
        "*Energía Solar*\n",
        "\n",
        "*Juan Jose Chamorro Paz*\n",
        "\n",
        "*1004214549*\n",
        "\n"
      ],
      "metadata": {
        "id": "o1v0_NsaDeYj"
      }
    },
    {
      "cell_type": "markdown",
      "source": [
        "**Introducción**\n",
        "\n",
        "La determinación de la potencia radiada o potencia lumínica producida por una lampara tipo incandescente, es un valor que presenta una dificultad en su cálculo, debido a la variación de potencia disipada que puede tener el dispositivo.\n"
      ],
      "metadata": {
        "id": "fCM9m3cFEcVd"
      }
    },
    {
      "cell_type": "markdown",
      "source": [
        "**Justificación**\n",
        "\n",
        "El problema descrito surge debido a que las lámparas tipo incandescentes, son dispositivos que producen potencia lumínica, trabajando con filamentos los cuales presentan una resistencia que disipa potencia eléctrica, sin embargo, este tipo de dispositivos tienen una relación entre la variación de la resistencia del filamento y la temperatura. \n",
        "Por lo que, para remediar el problema descrito, se debe buscar la relación entre la variación de la resistencia de los filamentos y la temperatura con el fin de determinar la potencia lumínica del dispositivo. \n"
      ],
      "metadata": {
        "id": "GM4cHxFNEg9w"
      }
    },
    {
      "cell_type": "markdown",
      "source": [
        "**Fundamentos Teóricos**\n",
        "\n",
        "Para poder entender a cabalidad lo descrito en el taller, es necesario conocer ciertas definiciones:\n",
        "\n",
        "*Resistencia en frio:*La resistencia en frío de un dispositivo se trata de la resistencia eléctrica medida a temperatura ambiente y antes de suministrarle energía eléctrica al dispositivo. Esta resistencia se suele utilizar como medida de referencia para comparar con la resistencia medida en ciertas condiciones de funcionamiento del dispositivo, cuando éste ya está siendo alimentado.\n",
        "\n",
        "*Emisividad:* Se trata de una propiedad de los materiales para indicar la capacidad de una superficie para emitir radiación electromagnética, ésta, se expresa en una escala de 0 a 1, donde 0 representa una superficie que refleja toda la radiación que incide sobre ella y 1 representa una superficie que emite toda la radiación que es capaz de emitir a su temperatura.\n"
      ],
      "metadata": {
        "id": "IyDiqzNmEmFF"
      }
    },
    {
      "cell_type": "markdown",
      "source": [
        "**Problema planteado**\n",
        "\n",
        "Se tiene una bombilla incandescente Globe Electric de tungsteno Edison G30 de 60 W cuyas especificaciones técnicas se muestran a continuación:\n",
        "\n",
        "*  Filamentos de Tugsteno\n",
        "*  Potencia de consumo 60W\n",
        "*  Tensión 120V\n",
        "*  Dimensiones de la bombilla ‎3.58 x 3.58 x 4.41 pulgadas\n"
      ],
      "metadata": {
        "id": "Pj8xqbGfH6qi"
      }
    },
    {
      "cell_type": "markdown",
      "source": [
        "**Análisis de resultados**\n",
        "\n",
        "De acuerdo a la relación:\n",
        "\n",
        "$$\\frac{T}{T_{ref}}=(\\frac{R}{R_{ref}})^k$$\n",
        "\n",
        "En donde $T_{ref}$ representa la temperatura ambiente, la cual se asume 20ºC, y $R_{ref}$ la resistencia del dispositivo cuando no esta siendo alimentado.\n",
        "\n",
        "Dicha resistencia tiene un valor de $33\\Omega$ un metro, sin embargo, asumiendo que el filamento tenga una longitud de $20cm$ entonces:\n",
        "\n",
        "$$R_{ref}=33*0.2=6.6\\Omega$$\n",
        "\n",
        "Teniendo este valor, y asumiendo la constante del tugsteno $k=0.5$, es posible despejar la temperatura, de la siguiente manera:\n",
        "\n",
        "$$T=(\\frac{R}{R_{ref}})^kT_{ref}=\\frac{R^{0.5}}{6.6^{0.5}}20ºC=7.785R^{0.5}[ºC]$$\n",
        "\n",
        "Dicha resistencia, se determina a raiz de la potencia eléctrica que disipa el dispositivo, la cual esta expresada de la siguiente manera:\n",
        "\n",
        "$$P_{elec}=\\frac{V^2}{R}$$\n",
        "\n",
        "Por otro lado, tengo que la potrencia radiada por un dispositivo, esta definida de acuerdo a la siguiente formula:\n",
        "\n",
        "$$P_{radiada}=\\alpha T^n$$\n",
        "\n",
        "En donde:\n",
        "* $s$:Área de la superficie emisora\n",
        "* $\\varepsilon$: Emisividad\n",
        "* $\\sigma$: Constante de Stefan-Boltzmann \n",
        "\n",
        "Los cuales según el dispositivo seleccionado se estiman los siguientes valores\n",
        "\n",
        "$s$: tomado como el tamañon de la bombilla\n",
        "\n",
        "$3.58in \\rightarrow 0.091m \\hspace{3cm} 4.41in \\rightarrow 0.112m$\n",
        "$$s=0.091\\times0.112=0.0102m^2$$\n",
        "\n",
        "$\\varepsilon$: Emisividad\n",
        "Al tratarse de filamentos de tugsteno, la emisividad tendría un valor de:\n",
        "$$\\varepsilon=0.05$$\n",
        "\n",
        "$\\sigma$: Constante de Stefan-Boltzmann \n",
        "La constante de Stefan-Boltzmann es de:\n",
        "$$\\sigma=5.67\\times 10^{-8} \\frac{W}{m^2}K^4$$"
      ],
      "metadata": {
        "id": "MjOhf81GITyf"
      }
    },
    {
      "cell_type": "code",
      "source": [],
      "metadata": {
        "id": "zcAjjk7sDh1T"
      },
      "execution_count": null,
      "outputs": []
    }
  ]
}