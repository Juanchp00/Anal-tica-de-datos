{
  "nbformat": 4,
  "nbformat_minor": 0,
  "metadata": {
    "colab": {
      "provenance": [],
      "authorship_tag": "ABX9TyOWs5JAwCUmiZwmaN3HnlPi",
      "include_colab_link": true
    },
    "kernelspec": {
      "name": "python3",
      "display_name": "Python 3"
    },
    "language_info": {
      "name": "python"
    }
  },
  "cells": [
    {
      "cell_type": "markdown",
      "metadata": {
        "id": "view-in-github",
        "colab_type": "text"
      },
      "source": [
        "<a href=\"https://colab.research.google.com/github/Juanchp00/Anal-tica-de-datos/blob/main/Parametros_Accionamientos.ipynb\" target=\"_parent\"><img src=\"https://colab.research.google.com/assets/colab-badge.svg\" alt=\"Open In Colab\"/></a>"
      ]
    },
    {
      "cell_type": "markdown",
      "source": [
        "**Arranque electronico DC**\n"
      ],
      "metadata": {
        "id": "spuM5aKbUaBV"
      }
    },
    {
      "cell_type": "markdown",
      "source": [
        "#Aceleración BAJA\n",
        "\n",
        "estando el motor parado se desea que arranque con una aceleración angular inicial de 100 rpm/s (P1).\n",
        "\n"
      ],
      "metadata": {
        "id": "q_WxwGKoWdfm"
      }
    },
    {
      "cell_type": "code",
      "source": [
        "import numpy as np\n",
        "#Caracterización del punto P1\n",
        "mst=100\n",
        "Tm=147.79\n",
        "Jmotor=0.46\n",
        "Jinercia=15.05\n",
        "Jt=Jmotor+Jinercia\n",
        "kphi=5.9309\n",
        "Ra=0.9320\n",
        "Ea1=0\n",
        "vll=440\n",
        "wt=mst*2*np.pi/60\n",
        "wt"
      ],
      "metadata": {
        "colab": {
          "base_uri": "https://localhost:8080/"
        },
        "id": "Q_iFpYirWbHk",
        "outputId": "6c4df837-122c-4762-e0bd-a156f43ae458"
      },
      "execution_count": 144,
      "outputs": [
        {
          "output_type": "execute_result",
          "data": {
            "text/plain": [
              "10.471975511965978"
            ]
          },
          "metadata": {},
          "execution_count": 144
        }
      ]
    },
    {
      "cell_type": "markdown",
      "source": [
        "Ecuación de movimiento \n",
        "\n",
        "$\\tau_{el}=\\tau_m +J_t \\frac{d\\omega}{dt}$"
      ],
      "metadata": {
        "id": "mUMMTy8SXSO0"
      }
    },
    {
      "cell_type": "code",
      "source": [
        "#Ecuacion de movimiento\n",
        "Tel=Tm+Jt*wt\n",
        "Tel"
      ],
      "metadata": {
        "colab": {
          "base_uri": "https://localhost:8080/"
        },
        "id": "RyEYofXsXMHD",
        "outputId": "3ff77934-9b2d-4252-e856-d75da8f77583"
      },
      "execution_count": 145,
      "outputs": [
        {
          "output_type": "execute_result",
          "data": {
            "text/plain": [
              "310.2103401905923"
            ]
          },
          "metadata": {},
          "execution_count": 145
        }
      ]
    },
    {
      "cell_type": "markdown",
      "source": [
        "Corriente de armadura\n",
        "\n",
        "$I_{A1}=\\frac{\\tau_{el}}{k_\\phi}$\n"
      ],
      "metadata": {
        "id": "nLTwcWHdYi9q"
      }
    },
    {
      "cell_type": "code",
      "source": [
        "#Corriente de armadura\n",
        "Ia1=Tel/kphi\n",
        "Ia1"
      ],
      "metadata": {
        "colab": {
          "base_uri": "https://localhost:8080/"
        },
        "id": "Cm5CLuR4Yig0",
        "outputId": "df54fb67-1dff-4e73-8b9d-9fed8a26bf17"
      },
      "execution_count": 146,
      "outputs": [
        {
          "output_type": "execute_result",
          "data": {
            "text/plain": [
              "52.30409215980581"
            ]
          },
          "metadata": {},
          "execution_count": 146
        }
      ]
    },
    {
      "cell_type": "markdown",
      "source": [
        "Tensión armadura\n",
        "\n",
        "$V_{A1}=I_{A1}R_{A}+E_{A1}$"
      ],
      "metadata": {
        "id": "EIcIXGGOZBox"
      }
    },
    {
      "cell_type": "code",
      "source": [
        "#Tension de armadura\n",
        "Va1=Ia1*Ra+Ea1\n",
        "Va1"
      ],
      "metadata": {
        "colab": {
          "base_uri": "https://localhost:8080/"
        },
        "id": "_09HxZLTYdEg",
        "outputId": "83161084-8b22-484b-9115-ee3123ba29ab"
      },
      "execution_count": 147,
      "outputs": [
        {
          "output_type": "execute_result",
          "data": {
            "text/plain": [
              "48.74741389293902"
            ]
          },
          "metadata": {},
          "execution_count": 147
        }
      ]
    },
    {
      "cell_type": "markdown",
      "source": [
        "Angulo de disparo del rectificador \n",
        "\n",
        "$\\alpha_{11}=cos^{-1}(\\frac{V_{A1}}{1.3505 V_{LL}})$"
      ],
      "metadata": {
        "id": "ew5WkMj7Zj6e"
      }
    },
    {
      "cell_type": "code",
      "source": [
        "#Angulo de disparo del rectificador\n",
        "a11=pow(np.cos(Va1/(1.3505*(vll))),-1)\n",
        "a11"
      ],
      "metadata": {
        "colab": {
          "base_uri": "https://localhost:8080/"
        },
        "id": "kWPbG2dwZfon",
        "outputId": "9a466bdf-419b-4dd4-a146-c3d5205c9aeb"
      },
      "execution_count": 148,
      "outputs": [
        {
          "output_type": "execute_result",
          "data": {
            "text/plain": [
              "1.0033744117951968"
            ]
          },
          "metadata": {},
          "execution_count": 148
        }
      ]
    },
    {
      "cell_type": "markdown",
      "source": [
        "cuando el motor haya finalizado de arrancar y se encuentre girando a una velocidad de 840rpm (P2).\n",
        "\n",
        "caracterizacion del punto P2"
      ],
      "metadata": {
        "id": "qjbLbOrObIXo"
      }
    },
    {
      "cell_type": "code",
      "source": [
        "wt2=0\n",
        "n2=840\n",
        "#ecuacion de movimiento \n",
        "Tel2=Tm+(Jmotor+Jinercia)*wt2\n",
        "Tel2"
      ],
      "metadata": {
        "colab": {
          "base_uri": "https://localhost:8080/"
        },
        "id": "IO3HNQNGaiKh",
        "outputId": "75b7c108-58e7-415e-879a-f1351e8efbad"
      },
      "execution_count": 149,
      "outputs": [
        {
          "output_type": "execute_result",
          "data": {
            "text/plain": [
              "147.79"
            ]
          },
          "metadata": {},
          "execution_count": 149
        }
      ]
    },
    {
      "cell_type": "code",
      "source": [
        "#corrienrte de armadura\n",
        "Ia2=Tel2/kphi\n",
        "Ia2"
      ],
      "metadata": {
        "colab": {
          "base_uri": "https://localhost:8080/"
        },
        "id": "LJmDYUzibqAd",
        "outputId": "e39eb641-0bd7-4af2-8467-a17a642849cd"
      },
      "execution_count": 150,
      "outputs": [
        {
          "output_type": "execute_result",
          "data": {
            "text/plain": [
              "24.918646411168623"
            ]
          },
          "metadata": {},
          "execution_count": 150
        }
      ]
    },
    {
      "cell_type": "markdown",
      "source": [
        "Tensión de armadura\n",
        "\n",
        "$$V_{A2}=I_{A}R_{A}+E_{A2}=I_{A}R_{A}+k_{\\phi}\\omega_2$$"
      ],
      "metadata": {
        "id": "7eMHNgsvcDqy"
      }
    },
    {
      "cell_type": "code",
      "source": [
        "#Tensión armadura\n",
        "wt2=n2*2*np.pi/60\n",
        "Va2=Ia2*Ra+kphi*wt2\n",
        "Va2"
      ],
      "metadata": {
        "colab": {
          "base_uri": "https://localhost:8080/"
        },
        "id": "vd6UxpB_b5B0",
        "outputId": "39c6b917-5a0f-4623-93c7-9c89c54f7249"
      },
      "execution_count": 151,
      "outputs": [
        {
          "output_type": "execute_result",
          "data": {
            "text/plain": [
              "544.933390792129"
            ]
          },
          "metadata": {},
          "execution_count": 151
        }
      ]
    },
    {
      "cell_type": "code",
      "source": [
        "#angulo de disparo del rectificador 1\n",
        "a12=pow(np.cos(Va2/(1.3505*(vll))),-1)\n",
        "a12"
      ],
      "metadata": {
        "colab": {
          "base_uri": "https://localhost:8080/"
        },
        "id": "ZDYf3IEwdGZf",
        "outputId": "fb10964e-b013-464c-ea29-7f17445c92fd"
      },
      "execution_count": 152,
      "outputs": [
        {
          "output_type": "execute_result",
          "data": {
            "text/plain": [
              "1.6443060803923484"
            ]
          },
          "metadata": {},
          "execution_count": 152
        }
      ]
    },
    {
      "cell_type": "markdown",
      "source": [
        "Rampa de arranque"
      ],
      "metadata": {
        "id": "3JZb_CI4gjhf"
      }
    },
    {
      "cell_type": "code",
      "source": [
        "#Velocidad inicial\n",
        "n1=0\n",
        "#Velocidad final\n",
        "n2\n",
        "#pendiente de arranque\n",
        "mst\n",
        "#tension de arranque\n",
        "Vst=Va1\n",
        "#tension final\n",
        "Vend=Va2\n",
        "#Tiempo de arranque\n",
        "tst=(n2-n1)/mst\n",
        "print(f\"Velocidad inicial:\",[n1],f\"Velocidad final:\",[n2],f\"Valor de la pendiente de la rampa:\",[mst],f\"Tension de arranque:\",[Vst],f\"Tension final:\",[Vend],f\"Tiempo de arranque:\",[tst])"
      ],
      "metadata": {
        "colab": {
          "base_uri": "https://localhost:8080/"
        },
        "id": "1KrWAbP5DP0q",
        "outputId": "b76a3af3-b5bd-42a6-c35a-6e9bb90ab1fb"
      },
      "execution_count": 153,
      "outputs": [
        {
          "output_type": "stream",
          "name": "stdout",
          "text": [
            "Velocidad inicial: [0] Velocidad final: [840] Valor de la pendiente de la rampa: [100] Tension de arranque: [48.74741389293902] Tension final: [544.933390792129] Tiempo de arranque: [8.4]\n"
          ]
        }
      ]
    },
    {
      "cell_type": "markdown",
      "source": [
        "**Desaceleracion**\n",
        "\n",
        "Suponiendo el motor girando a 840rpm (P3)se desea frenar la carga mecánica con un frenado regenerativo(frenado en sentido inverso). El par de frenado deseado es de -500Nm. Determinar:\n",
        "\n",
        "(a) el ángulo de disparo del rectificador necesario para iniciar el frenado(P4).\n",
        "\n",
        "(b)el ángulo de disparo del rectificador al final del periodo transitorio de frenado(P5)."
      ],
      "metadata": {
        "id": "7t6j15JOeA62"
      }
    },
    {
      "cell_type": "code",
      "source": [
        "#punto 3 caracterizacion\n",
        "n3=n2\n",
        "Tel3=Tel2\n",
        "Ia3=Ia2\n",
        "Va3=Va2\n",
        "a13=a12"
      ],
      "metadata": {
        "id": "y3R9YlsPdalO"
      },
      "execution_count": 154,
      "outputs": []
    },
    {
      "cell_type": "code",
      "source": [
        "#Caracterizacion punto 4\n",
        "n4=n3\n",
        "w4=n4*2*np.pi/60\n",
        "Tel4=-500\n",
        "Tf=Tel4\n",
        "Ia4=Tel4/kphi\n",
        "Va4=Ia4*Ra+kphi*w4\n",
        "a24=pow(np.cos(Va4/(-1.3505*(vll))),-1)\n",
        "a24"
      ],
      "metadata": {
        "colab": {
          "base_uri": "https://localhost:8080/"
        },
        "id": "XIZWRKH8jz2K",
        "outputId": "b71d894e-d048-4578-a23f-063f81d7ded6"
      },
      "execution_count": 155,
      "outputs": [
        {
          "output_type": "execute_result",
          "data": {
            "text/plain": [
              "1.3613195432754401"
            ]
          },
          "metadata": {},
          "execution_count": 155
        }
      ]
    },
    {
      "cell_type": "code",
      "source": [
        "#Caracterizacion punto 5\n",
        "n5=0\n",
        "Tel5=Tf\n",
        "#ecuacion de movimiento\n",
        "wt5=(Tel5-Tm)/Jt\n",
        "wt5"
      ],
      "metadata": {
        "colab": {
          "base_uri": "https://localhost:8080/"
        },
        "id": "nLq4zZ_gkiTW",
        "outputId": "a8ea1a20-321a-4a57-ef84-9ab24ab56c6b"
      },
      "execution_count": 156,
      "outputs": [
        {
          "output_type": "execute_result",
          "data": {
            "text/plain": [
              "-41.76595744680851"
            ]
          },
          "metadata": {},
          "execution_count": 156
        }
      ]
    },
    {
      "cell_type": "code",
      "source": [
        "mf=wt5*60/(2*np.pi)\n",
        "mf"
      ],
      "metadata": {
        "colab": {
          "base_uri": "https://localhost:8080/"
        },
        "id": "YdbvQzZFlKLg",
        "outputId": "be203a38-96d0-4434-bcdd-0bb4efe8d014"
      },
      "execution_count": 157,
      "outputs": [
        {
          "output_type": "execute_result",
          "data": {
            "text/plain": [
              "-398.8355148375198"
            ]
          },
          "metadata": {},
          "execution_count": 157
        }
      ]
    },
    {
      "cell_type": "code",
      "source": [
        "#Corriente de armadura\n",
        "Ia5=Tel5/kphi\n",
        "w5=n5*2*np.pi/60\n",
        "#tension de armadura\n",
        "Va5=Ia5*Ra+kphi*w5\n",
        "#angulo de disparo del rectificador 2\n",
        "a25=pow(np.cos(Va5/(-1.3505*(vll))),-1)\n"
      ],
      "metadata": {
        "id": "-Q-wbNfjlW9w"
      },
      "execution_count": 158,
      "outputs": []
    },
    {
      "cell_type": "markdown",
      "source": [
        "Rampa de frenado"
      ],
      "metadata": {
        "id": "YPYDu-6Qmp02"
      }
    },
    {
      "cell_type": "code",
      "source": [
        "#velocidad inicial\n",
        "n4\n",
        "#velocidad final \n",
        "n5\n",
        "#pendiente rampa\n",
        "mf\n",
        "#Tension frenado\n",
        "fVst=Va4\n",
        "#Tension final\n",
        "Vfinal=Va5\n",
        "#tiempo de frenado\n",
        "tf=(n5-n4)/mf\n",
        "print(f\"Velocidad inicial:\",[n4],f\"Velocidad final:\",[n5],f\"Valor de la pendiente de la rampa:\",[mf],f\"Tension de frenado:\",[fVst],f\"Tension final:\",[Vfinal],f\"Tiempo de frenado:\",[tf])"
      ],
      "metadata": {
        "colab": {
          "base_uri": "https://localhost:8080/"
        },
        "id": "1PvynXPVEoyN",
        "outputId": "84599aa4-1512-4130-fed2-73331e968c7b"
      },
      "execution_count": 159,
      "outputs": [
        {
          "output_type": "stream",
          "name": "stdout",
          "text": [
            "Velocidad inicial: [840] Velocidad final: [0] Valor de la pendiente de la rampa: [-398.8355148375198] Tension de frenado: [443.13766333086676] Tension final: [-78.57154900605305] Tiempo de frenado: [2.1061313969048236]\n"
          ]
        }
      ]
    },
    {
      "cell_type": "markdown",
      "source": [
        "#Velocidad media\n",
        "\n",
        "**Aceleración electrónica**\n",
        "\n",
        "$\\tau_{el}=\\tau_m +J_t \\frac{d\\omega}{dt}$\n",
        "\n",
        "$\\tau_a=\\tau_{el}-\\tau_m=J_t \\frac{d\\omega}{dt}$\n",
        "\n",
        "$\\frac{d\\omega}{dt}=\\frac{\\tau_a}{J_t}$"
      ],
      "metadata": {
        "id": "YDB4Q5B7qNxs"
      }
    },
    {
      "cell_type": "code",
      "source": [
        "Ta=1.6745*pow(10,3)\n",
        "Tm=147.79\n",
        "Jmotor=0.46\n",
        "Jinercia=15.05\n",
        "Jt=Jmotor+Jinercia\n",
        "kphi=5.9309\n",
        "Ra=0.9320\n",
        "vll=440\n",
        "Ea1=0\n",
        "Ta"
      ],
      "metadata": {
        "colab": {
          "base_uri": "https://localhost:8080/"
        },
        "id": "ZoXyrMDtodyw",
        "outputId": "50f6ef60-4e10-4a63-b48b-492bec350d97"
      },
      "execution_count": 134,
      "outputs": [
        {
          "output_type": "execute_result",
          "data": {
            "text/plain": [
              "1674.5"
            ]
          },
          "metadata": {},
          "execution_count": 134
        }
      ]
    },
    {
      "cell_type": "code",
      "source": [
        "#Aceleracion angular en rad/s2\n",
        "wta=Ta/Jt\n",
        "#Aceleracion angular inicial en rpm/s\n",
        "mnst=wta*60/(2*np.pi)\n",
        "mnst"
      ],
      "metadata": {
        "colab": {
          "base_uri": "https://localhost:8080/"
        },
        "id": "TpeTpm-Gqhif",
        "outputId": "54256052-435d-4366-d223-77a2b8d9d433"
      },
      "execution_count": 135,
      "outputs": [
        {
          "output_type": "execute_result",
          "data": {
            "text/plain": [
              "1030.9669331039795"
            ]
          },
          "metadata": {},
          "execution_count": 135
        }
      ]
    },
    {
      "cell_type": "code",
      "source": [
        "#Ecuacion de movimiento\n",
        "mTe1=Tm+Jt*wta\n",
        "mTe1"
      ],
      "metadata": {
        "colab": {
          "base_uri": "https://localhost:8080/"
        },
        "id": "MN0nd3LZsYxD",
        "outputId": "e3bfdc6b-6613-47b4-e413-fef0f721395d"
      },
      "execution_count": 136,
      "outputs": [
        {
          "output_type": "execute_result",
          "data": {
            "text/plain": [
              "1822.29"
            ]
          },
          "metadata": {},
          "execution_count": 136
        }
      ]
    },
    {
      "cell_type": "code",
      "source": [
        "#Corriente de armadura\n",
        "mIa1=mTe1/kphi\n",
        "#Tension de armadura\n",
        "mVa1=mIa1*Ra+Ea1\n",
        "#angulo de disparo del rectificador 1\n",
        "ma11=pow(np.cos(mVa1/(1.3505*(vll))),-1)"
      ],
      "metadata": {
        "id": "SQ-MFQW4rnuD"
      },
      "execution_count": 137,
      "outputs": []
    },
    {
      "cell_type": "code",
      "source": [
        "#P2 cuando el motor haya finalizado de arrancar y se encuentre girando a vel 840rpm\n",
        "mwt2=0\n",
        "mw2=840\n",
        "#Ecuacion de movimiento\n",
        "mTe2=Tm+Jt*mwt2\n",
        "#Corriente de armadura\n",
        "mIa2=mTe2/kphi\n",
        "#Tension de armadura\n",
        "mVa2=mIa2*Ra+kphi*w2*2*np.pi/60\n",
        "#Angulo de disparo rectificador 1\n",
        "ma12=pow(np.cos(mVa2/(1.3505*(vll))),-1)"
      ],
      "metadata": {
        "id": "TCyU7wanuGDc"
      },
      "execution_count": 138,
      "outputs": []
    },
    {
      "cell_type": "markdown",
      "source": [
        "Rampa de arranque"
      ],
      "metadata": {
        "id": "KFK2rDQbvYu-"
      }
    },
    {
      "cell_type": "code",
      "source": [
        "#Velocidad inicial\n",
        "mn1=0\n",
        "#Velocidad final\n",
        "mn2=w2\n",
        "#Valor de la pendiente de la rampa\n",
        "mmst=mnst\n",
        "#Tension de arranque\n",
        "mVst=mVa1\n",
        "#Tension final\n",
        "mVf=mVa2\n",
        "#Tiempo de arranque\n",
        "mtst=(mnf-mn1)/mmst\n",
        "print(f\"Velocidad inicial:\",[mn1],f\"Velocidad final:\",[mn2],f\"Valor de la pendiente de la rampa:\",[mmst],f\"Tension de arranque:\",[mVst],f\"Tension final:\",[mVf],f\"Tiempo de arranque:\",[mtst])"
      ],
      "metadata": {
        "colab": {
          "base_uri": "https://localhost:8080/"
        },
        "id": "r6PsMpyTuxtV",
        "outputId": "33f08bc5-d0a6-419e-f0a8-b401e7b3e8f0"
      },
      "execution_count": 139,
      "outputs": [
        {
          "output_type": "stream",
          "name": "stdout",
          "text": [
            "Velocidad inicial: [0] Velocidad final: [840] Valor de la pendiente de la rampa: [1030.9669331039795] Tension de arranque: [286.3602960764808] Tension final: [544.9333907921289] Tiempo de arranque: [0.814769099791565]\n"
          ]
        }
      ]
    },
    {
      "cell_type": "markdown",
      "source": [
        "**Frenado electrónico**\n",
        "\n",
        "$\\tau_{el}=\\tau_m +J_t \\frac{d\\omega}{dt}$\n",
        "\n",
        "$\\tau_a=\\tau_{el}-\\tau_m=J_t \\frac{d\\omega}{dt}$\n",
        "\n",
        "$\\frac{d\\omega}{dt}=\\frac{\\tau_a}{J_t}$"
      ],
      "metadata": {
        "id": "7jIeIvGdyMoS"
      }
    },
    {
      "cell_type": "code",
      "source": [
        "#punto 3 caracterizacion\n",
        "mn3=n2\n",
        "mTe3=mTe2\n",
        "mIa3=mIa2\n",
        "mVa3=mVa2\n",
        "ma13=ma12"
      ],
      "metadata": {
        "id": "3tRUkOqowjps"
      },
      "execution_count": 140,
      "outputs": []
    },
    {
      "cell_type": "code",
      "source": [
        "#punto 4 caracterizacion\n",
        "mn4=mn3\n",
        "mTe4=-Ta\n",
        "#Corriente de armadura\n",
        "mIa4=mTe4/kphi\n",
        "#Tension de armadura\n",
        "mVa4=mIa4*Ra+kphi*mn4*2*np.pi/60\n",
        "#angulo de disparo del rectificador 2\n",
        "ma24=pow(np.cos(mVa4/(1.3505*(vll))),-1)"
      ],
      "metadata": {
        "id": "X9mQbRx_yz4E"
      },
      "execution_count": 141,
      "outputs": []
    },
    {
      "cell_type": "code",
      "source": [
        "#punto 5 caracterizacion\n",
        "mn5=0\n",
        "mTe5=-Ta\n",
        "#Ecuacion de movimiento\n",
        "mwt5=(mTe5-Tm)/Jt\n",
        "mnt5=mwt5*60/(2*np.pi)\n",
        "#Corriente de armadura\n",
        "mIa5=mTe5/kphi\n",
        "#Tension de armadura\n",
        "mVa5=mIa5*Ra+kphi*mn5*2*np.pi/60\n",
        "#angulo de disparo del rectificador 2\n",
        "ma25=pow(np.cos(mVa5/(1.3505*(vll))),-1)"
      ],
      "metadata": {
        "id": "UG8DkI3qzrJC"
      },
      "execution_count": 142,
      "outputs": []
    },
    {
      "cell_type": "markdown",
      "source": [
        "Rampa de frenado"
      ],
      "metadata": {
        "id": "kuprUU2T1ME1"
      }
    },
    {
      "cell_type": "code",
      "source": [
        "#Velocidad inicial\n",
        "mn4\n",
        "#Velocidad final\n",
        "mn5\n",
        "#Valor de la pendiente de la rampa\n",
        "mmf=mnt5\n",
        "#Tension de frenado \n",
        "mfVst=mVa4\n",
        "#Tension final\n",
        "mfVf=mVa5\n",
        "#Tiempo de arranque\n",
        "mtf=(mn5-mn4)/mmf\n",
        "print(f\"Velocidad inicial:\",[mn4],f\"Velocidad final:\",[mn5],f\"Valor de la pendiente de la rampa:\",[mmf],f\"Tension de frenado:\",[mfVst],f\"Tension final:\",[mfVf],f\"Tiempo de frenado:\",[mtf])"
      ],
      "metadata": {
        "colab": {
          "base_uri": "https://localhost:8080/"
        },
        "id": "iWatpKXNz5iN",
        "outputId": "1ceb6ca7-ac51-46fc-87d2-7cd41e4a3ea1"
      },
      "execution_count": 143,
      "outputs": [
        {
          "output_type": "stream",
          "name": "stdout",
          "text": [
            "Velocidad inicial: [840] Velocidad final: [0] Valor de la pendiente de la rampa: [-1121.9592311293227] Tension de frenado: [258.573094715648] Tension final: [-263.1361176212717] Tiempo de frenado: [0.7486903059342781]\n"
          ]
        }
      ]
    },
    {
      "cell_type": "markdown",
      "source": [
        "#Aceleración ALTA\n",
        "\n",
        "estando el motor parado se desea que arranque con una aceleración angular inicial de 2000 rpm/s (P1)."
      ],
      "metadata": {
        "id": "46iUAliGRW5R"
      }
    },
    {
      "cell_type": "code",
      "source": [
        "#Caracterización del punto P1\n",
        "mst=2000\n",
        "Tm=147.79\n",
        "Jmotor=0.46\n",
        "Jinercia=15.05\n",
        "Jt=Jmotor+Jinercia\n",
        "kphi=5.9309\n",
        "Ra=0.9320\n",
        "Ea1=0\n",
        "vll=440\n",
        "wt=mst*2*np.pi/60\n",
        "#Ecuacion de movimiento\n",
        "Tel=Tm+Jt*wt\n",
        "#Corriente de armadura\n",
        "Ia1=Tel/kphi\n",
        "#Tension de armadura\n",
        "Va1=Ia1*Ra+Ea1\n",
        "#Angulo de disparo del rectificador\n",
        "a11=pow(np.cos(Va1/(1.3505*(vll))),-1)"
      ],
      "metadata": {
        "id": "9PGeIqpo2hYz"
      },
      "execution_count": 161,
      "outputs": []
    },
    {
      "cell_type": "code",
      "source": [
        "#P2 cuando el motor haya finalizado de arrancar y se encuentre girando a vel 840rpm\n",
        "mwt2=0\n",
        "mw2=840\n",
        "#Ecuacion de movimiento\n",
        "mTe2=Tm+Jt*mwt2\n",
        "#Corriente de armadura\n",
        "mIa2=mTe2/kphi\n",
        "#Tension de armadura\n",
        "mVa2=mIa2*Ra+kphi*w2*2*np.pi/60\n",
        "#Angulo de disparo rectificador 1\n",
        "ma12=pow(np.cos(mVa2/(1.3505*(vll))),-1)"
      ],
      "metadata": {
        "id": "ntvBSIkkSCTk"
      },
      "execution_count": 162,
      "outputs": []
    },
    {
      "cell_type": "markdown",
      "source": [
        "Rampa de arranque"
      ],
      "metadata": {
        "id": "T-PYjJ9JTAg6"
      }
    },
    {
      "cell_type": "code",
      "source": [
        "#Velocidad inicial\n",
        "mn1=0\n",
        "#Velocidad final\n",
        "mn2=w2\n",
        "#Valor de la pendiente de la rampa\n",
        "mmst=mnst\n",
        "#Tension de arranque\n",
        "mVst=mVa1\n",
        "#Tension final\n",
        "mVf=mVa2\n",
        "#Tiempo de arranque\n",
        "mtst=(mnf-mn1)/mmst\n",
        "print(f\"Velocidad inicial:\",[mn1],f\"Velocidad final:\",[mn2],f\"Valor de la pendiente de la rampa:\",[mmst],f\"Tension de arranque:\",[mVst],f\"Tension final:\",[mVf],f\"Tiempo de arranque:\",[mtst])"
      ],
      "metadata": {
        "id": "RsHPPuhDS5zh"
      },
      "execution_count": null,
      "outputs": []
    },
    {
      "cell_type": "markdown",
      "source": [
        "Desaceleracion"
      ],
      "metadata": {
        "id": "lgOD8P0HTEFx"
      }
    },
    {
      "cell_type": "code",
      "source": [
        "#punto 3 caracterizacion\n",
        "n3=n2\n",
        "Tel3=Tel2\n",
        "Ia3=Ia2\n",
        "Va3=Va2\n",
        "a13=a12\n",
        "#Caracterizacion punto 4\n",
        "n4=n3\n",
        "w4=n4*2*np.pi/60\n",
        "Tel4=-500\n",
        "Tf=Tel4\n",
        "Ia4=Tel4/kphi\n",
        "Va4=Ia4*Ra+kphi*w4\n",
        "a24=pow(np.cos(Va4/(-1.3505*(vll))),-1)\n"
      ],
      "metadata": {
        "id": "Zc-90UX6TWVP"
      },
      "execution_count": 163,
      "outputs": []
    },
    {
      "cell_type": "code",
      "source": [
        "#Caracterizacion punto 5\n",
        "n5=0\n",
        "Tel5=Tf\n",
        "#ecuacion de movimiento\n",
        "wt5=(Tel5-Tm)/Jt\n",
        "mf=wt5*60/(2*np.pi)\n",
        "#Corriente de armadura\n",
        "Ia5=Tel5/kphi\n",
        "w5=n5*2*np.pi/60\n",
        "#tension de armadura\n",
        "Va5=Ia5*Ra+kphi*w5\n",
        "#angulo de disparo del rectificador 2\n",
        "a25=pow(np.cos(Va5/(-1.3505*(vll))),-1)"
      ],
      "metadata": {
        "id": "10Ll6EfITdLd"
      },
      "execution_count": 164,
      "outputs": []
    },
    {
      "cell_type": "markdown",
      "source": [
        "Rampa de frenado"
      ],
      "metadata": {
        "id": "n288h4EITyAG"
      }
    },
    {
      "cell_type": "code",
      "source": [
        "#Velocidad inicial\n",
        "mn4\n",
        "#Velocidad final\n",
        "mn5\n",
        "#Valor de la pendiente de la rampa\n",
        "mmf=mnt5\n",
        "#Tension de frenado \n",
        "mfVst=mVa4\n",
        "#Tension final\n",
        "mfVf=mVa5\n",
        "#Tiempo de arranque\n",
        "mtf=(mn5-mn4)/mmf\n",
        "print(f\"Velocidad inicial:\",[mn4],f\"Velocidad final:\",[mn5],f\"Valor de la pendiente de la rampa:\",[mmf],f\"Tension de frenado:\",[mfVst],f\"Tension final:\",[mfVf],f\"Tiempo de frenado:\",[mtf])"
      ],
      "metadata": {
        "id": "daOrNhxlTf7K"
      },
      "execution_count": null,
      "outputs": []
    }
  ]
}